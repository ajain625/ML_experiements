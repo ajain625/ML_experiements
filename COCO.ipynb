{
  "nbformat": 4,
  "nbformat_minor": 0,
  "metadata": {
    "colab": {
      "name": "COCO.ipynb",
      "provenance": [],
      "authorship_tag": "ABX9TyNs9B5R3f/dpbmNwKDBLWjE",
      "include_colab_link": true
    },
    "kernelspec": {
      "name": "python3",
      "display_name": "Python 3"
    },
    "language_info": {
      "name": "python"
    },
    "accelerator": "GPU",
    "widgets": {
      "application/vnd.jupyter.widget-state+json": {
        "8e5a664c4f434183ab335383a6718c52": {
          "model_module": "@jupyter-widgets/controls",
          "model_name": "HBoxModel",
          "model_module_version": "1.5.0",
          "state": {
            "_view_name": "HBoxView",
            "_dom_classes": [],
            "_model_name": "HBoxModel",
            "_view_module": "@jupyter-widgets/controls",
            "_model_module_version": "1.5.0",
            "_view_count": null,
            "_view_module_version": "1.5.0",
            "box_style": "",
            "layout": "IPY_MODEL_607a4058eaff400ea8f6cbc7001ced43",
            "_model_module": "@jupyter-widgets/controls",
            "children": [
              "IPY_MODEL_a5c072bb0b0f44109cf49d3a51b7fd31",
              "IPY_MODEL_706fc44d7b994e3496982c0a57eeeceb",
              "IPY_MODEL_65a64f67fae14e8da4901f88832fb960"
            ]
          }
        },
        "607a4058eaff400ea8f6cbc7001ced43": {
          "model_module": "@jupyter-widgets/base",
          "model_name": "LayoutModel",
          "model_module_version": "1.2.0",
          "state": {
            "_view_name": "LayoutView",
            "grid_template_rows": null,
            "right": null,
            "justify_content": null,
            "_view_module": "@jupyter-widgets/base",
            "overflow": null,
            "_model_module_version": "1.2.0",
            "_view_count": null,
            "flex_flow": null,
            "width": null,
            "min_width": null,
            "border": null,
            "align_items": null,
            "bottom": null,
            "_model_module": "@jupyter-widgets/base",
            "top": null,
            "grid_column": null,
            "overflow_y": null,
            "overflow_x": null,
            "grid_auto_flow": null,
            "grid_area": null,
            "grid_template_columns": null,
            "flex": null,
            "_model_name": "LayoutModel",
            "justify_items": null,
            "grid_row": null,
            "max_height": null,
            "align_content": null,
            "visibility": null,
            "align_self": null,
            "height": null,
            "min_height": null,
            "padding": null,
            "grid_auto_rows": null,
            "grid_gap": null,
            "max_width": null,
            "order": null,
            "_view_module_version": "1.2.0",
            "grid_template_areas": null,
            "object_position": null,
            "object_fit": null,
            "grid_auto_columns": null,
            "margin": null,
            "display": null,
            "left": null
          }
        },
        "a5c072bb0b0f44109cf49d3a51b7fd31": {
          "model_module": "@jupyter-widgets/controls",
          "model_name": "HTMLModel",
          "model_module_version": "1.5.0",
          "state": {
            "_view_name": "HTMLView",
            "style": "IPY_MODEL_8eff4b270494433394654cca239b4ee7",
            "_dom_classes": [],
            "description": "",
            "_model_name": "HTMLModel",
            "placeholder": "​",
            "_view_module": "@jupyter-widgets/controls",
            "_model_module_version": "1.5.0",
            "value": "100%",
            "_view_count": null,
            "_view_module_version": "1.5.0",
            "description_tooltip": null,
            "_model_module": "@jupyter-widgets/controls",
            "layout": "IPY_MODEL_ea0956df48fc49db8df18d8ac0648b39"
          }
        },
        "706fc44d7b994e3496982c0a57eeeceb": {
          "model_module": "@jupyter-widgets/controls",
          "model_name": "FloatProgressModel",
          "model_module_version": "1.5.0",
          "state": {
            "_view_name": "ProgressView",
            "style": "IPY_MODEL_888c111cbb5e4e8593ae56b5689bcad0",
            "_dom_classes": [],
            "description": "",
            "_model_name": "FloatProgressModel",
            "bar_style": "success",
            "max": 102530333,
            "_view_module": "@jupyter-widgets/controls",
            "_model_module_version": "1.5.0",
            "value": 102530333,
            "_view_count": null,
            "_view_module_version": "1.5.0",
            "orientation": "horizontal",
            "min": 0,
            "description_tooltip": null,
            "_model_module": "@jupyter-widgets/controls",
            "layout": "IPY_MODEL_37ce64f65d7a4a4fad5600dc1b47fa4e"
          }
        },
        "65a64f67fae14e8da4901f88832fb960": {
          "model_module": "@jupyter-widgets/controls",
          "model_name": "HTMLModel",
          "model_module_version": "1.5.0",
          "state": {
            "_view_name": "HTMLView",
            "style": "IPY_MODEL_faa5c735020946848874cff4d8b25791",
            "_dom_classes": [],
            "description": "",
            "_model_name": "HTMLModel",
            "placeholder": "​",
            "_view_module": "@jupyter-widgets/controls",
            "_model_module_version": "1.5.0",
            "value": " 97.8M/97.8M [00:00&lt;00:00, 178MB/s]",
            "_view_count": null,
            "_view_module_version": "1.5.0",
            "description_tooltip": null,
            "_model_module": "@jupyter-widgets/controls",
            "layout": "IPY_MODEL_e428022f46944ae3a2a60d43abe3e272"
          }
        },
        "8eff4b270494433394654cca239b4ee7": {
          "model_module": "@jupyter-widgets/controls",
          "model_name": "DescriptionStyleModel",
          "model_module_version": "1.5.0",
          "state": {
            "_view_name": "StyleView",
            "_model_name": "DescriptionStyleModel",
            "description_width": "",
            "_view_module": "@jupyter-widgets/base",
            "_model_module_version": "1.5.0",
            "_view_count": null,
            "_view_module_version": "1.2.0",
            "_model_module": "@jupyter-widgets/controls"
          }
        },
        "ea0956df48fc49db8df18d8ac0648b39": {
          "model_module": "@jupyter-widgets/base",
          "model_name": "LayoutModel",
          "model_module_version": "1.2.0",
          "state": {
            "_view_name": "LayoutView",
            "grid_template_rows": null,
            "right": null,
            "justify_content": null,
            "_view_module": "@jupyter-widgets/base",
            "overflow": null,
            "_model_module_version": "1.2.0",
            "_view_count": null,
            "flex_flow": null,
            "width": null,
            "min_width": null,
            "border": null,
            "align_items": null,
            "bottom": null,
            "_model_module": "@jupyter-widgets/base",
            "top": null,
            "grid_column": null,
            "overflow_y": null,
            "overflow_x": null,
            "grid_auto_flow": null,
            "grid_area": null,
            "grid_template_columns": null,
            "flex": null,
            "_model_name": "LayoutModel",
            "justify_items": null,
            "grid_row": null,
            "max_height": null,
            "align_content": null,
            "visibility": null,
            "align_self": null,
            "height": null,
            "min_height": null,
            "padding": null,
            "grid_auto_rows": null,
            "grid_gap": null,
            "max_width": null,
            "order": null,
            "_view_module_version": "1.2.0",
            "grid_template_areas": null,
            "object_position": null,
            "object_fit": null,
            "grid_auto_columns": null,
            "margin": null,
            "display": null,
            "left": null
          }
        },
        "888c111cbb5e4e8593ae56b5689bcad0": {
          "model_module": "@jupyter-widgets/controls",
          "model_name": "ProgressStyleModel",
          "model_module_version": "1.5.0",
          "state": {
            "_view_name": "StyleView",
            "_model_name": "ProgressStyleModel",
            "description_width": "",
            "_view_module": "@jupyter-widgets/base",
            "_model_module_version": "1.5.0",
            "_view_count": null,
            "_view_module_version": "1.2.0",
            "bar_color": null,
            "_model_module": "@jupyter-widgets/controls"
          }
        },
        "37ce64f65d7a4a4fad5600dc1b47fa4e": {
          "model_module": "@jupyter-widgets/base",
          "model_name": "LayoutModel",
          "model_module_version": "1.2.0",
          "state": {
            "_view_name": "LayoutView",
            "grid_template_rows": null,
            "right": null,
            "justify_content": null,
            "_view_module": "@jupyter-widgets/base",
            "overflow": null,
            "_model_module_version": "1.2.0",
            "_view_count": null,
            "flex_flow": null,
            "width": null,
            "min_width": null,
            "border": null,
            "align_items": null,
            "bottom": null,
            "_model_module": "@jupyter-widgets/base",
            "top": null,
            "grid_column": null,
            "overflow_y": null,
            "overflow_x": null,
            "grid_auto_flow": null,
            "grid_area": null,
            "grid_template_columns": null,
            "flex": null,
            "_model_name": "LayoutModel",
            "justify_items": null,
            "grid_row": null,
            "max_height": null,
            "align_content": null,
            "visibility": null,
            "align_self": null,
            "height": null,
            "min_height": null,
            "padding": null,
            "grid_auto_rows": null,
            "grid_gap": null,
            "max_width": null,
            "order": null,
            "_view_module_version": "1.2.0",
            "grid_template_areas": null,
            "object_position": null,
            "object_fit": null,
            "grid_auto_columns": null,
            "margin": null,
            "display": null,
            "left": null
          }
        },
        "faa5c735020946848874cff4d8b25791": {
          "model_module": "@jupyter-widgets/controls",
          "model_name": "DescriptionStyleModel",
          "model_module_version": "1.5.0",
          "state": {
            "_view_name": "StyleView",
            "_model_name": "DescriptionStyleModel",
            "description_width": "",
            "_view_module": "@jupyter-widgets/base",
            "_model_module_version": "1.5.0",
            "_view_count": null,
            "_view_module_version": "1.2.0",
            "_model_module": "@jupyter-widgets/controls"
          }
        },
        "e428022f46944ae3a2a60d43abe3e272": {
          "model_module": "@jupyter-widgets/base",
          "model_name": "LayoutModel",
          "model_module_version": "1.2.0",
          "state": {
            "_view_name": "LayoutView",
            "grid_template_rows": null,
            "right": null,
            "justify_content": null,
            "_view_module": "@jupyter-widgets/base",
            "overflow": null,
            "_model_module_version": "1.2.0",
            "_view_count": null,
            "flex_flow": null,
            "width": null,
            "min_width": null,
            "border": null,
            "align_items": null,
            "bottom": null,
            "_model_module": "@jupyter-widgets/base",
            "top": null,
            "grid_column": null,
            "overflow_y": null,
            "overflow_x": null,
            "grid_auto_flow": null,
            "grid_area": null,
            "grid_template_columns": null,
            "flex": null,
            "_model_name": "LayoutModel",
            "justify_items": null,
            "grid_row": null,
            "max_height": null,
            "align_content": null,
            "visibility": null,
            "align_self": null,
            "height": null,
            "min_height": null,
            "padding": null,
            "grid_auto_rows": null,
            "grid_gap": null,
            "max_width": null,
            "order": null,
            "_view_module_version": "1.2.0",
            "grid_template_areas": null,
            "object_position": null,
            "object_fit": null,
            "grid_auto_columns": null,
            "margin": null,
            "display": null,
            "left": null
          }
        }
      }
    }
  },
  "cells": [
    {
      "cell_type": "markdown",
      "metadata": {
        "id": "view-in-github",
        "colab_type": "text"
      },
      "source": [
        "<a href=\"https://colab.research.google.com/github/ajain625/ML_experiements/blob/main/COCO.ipynb\" target=\"_parent\"><img src=\"https://colab.research.google.com/assets/colab-badge.svg\" alt=\"Open In Colab\"/></a>"
      ]
    },
    {
      "cell_type": "markdown",
      "source": [
        "This is my attempt at building an object detector using a small sample of the COCO database. I have largely used FastAI (a library built on top of PyTorch) to achieve this. The small sample I have considered has about 22,000 images containing one or more of the following objects: book, chair, couch, remote, tv, vase. \n",
        "\n",
        "I have been able to achieve 84% accuracy using resnet50 as my model and Leslie Smith's Super Convergence technique.\n",
        "\n",
        "The notebook is ready to run. You may also choose to upload any image you want and test out what the model predicts. Currently the model is equipped to handle 128x128 RGB images. If you upload an image of a different size, the model will randomly crop out a section of the aforementioned dimension. For best results, please upload images of size 128*128."
      ],
      "metadata": {
        "id": "6hNcbrgYbdrr"
      }
    },
    {
      "cell_type": "code",
      "execution_count": 1,
      "metadata": {
        "colab": {
          "base_uri": "https://localhost:8080/"
        },
        "id": "2N268tr7zuay",
        "outputId": "d34c92bb-4602-4f73-9332-59275c441b2b"
      },
      "outputs": [
        {
          "output_type": "stream",
          "name": "stdout",
          "text": [
            "\u001b[?25l\r\u001b[K     |▌                               | 10 kB 30.0 MB/s eta 0:00:01\r\u001b[K     |█                               | 20 kB 37.1 MB/s eta 0:00:01\r\u001b[K     |█▍                              | 30 kB 41.1 MB/s eta 0:00:01\r\u001b[K     |█▉                              | 40 kB 44.1 MB/s eta 0:00:01\r\u001b[K     |██▎                             | 51 kB 26.9 MB/s eta 0:00:01\r\u001b[K     |██▊                             | 61 kB 30.3 MB/s eta 0:00:01\r\u001b[K     |███▏                            | 71 kB 23.2 MB/s eta 0:00:01\r\u001b[K     |███▋                            | 81 kB 20.6 MB/s eta 0:00:01\r\u001b[K     |████                            | 92 kB 22.1 MB/s eta 0:00:01\r\u001b[K     |████▌                           | 102 kB 23.7 MB/s eta 0:00:01\r\u001b[K     |█████                           | 112 kB 23.7 MB/s eta 0:00:01\r\u001b[K     |█████▌                          | 122 kB 23.7 MB/s eta 0:00:01\r\u001b[K     |██████                          | 133 kB 23.7 MB/s eta 0:00:01\r\u001b[K     |██████▍                         | 143 kB 23.7 MB/s eta 0:00:01\r\u001b[K     |██████▉                         | 153 kB 23.7 MB/s eta 0:00:01\r\u001b[K     |███████▎                        | 163 kB 23.7 MB/s eta 0:00:01\r\u001b[K     |███████▊                        | 174 kB 23.7 MB/s eta 0:00:01\r\u001b[K     |████████▏                       | 184 kB 23.7 MB/s eta 0:00:01\r\u001b[K     |████████▋                       | 194 kB 23.7 MB/s eta 0:00:01\r\u001b[K     |█████████                       | 204 kB 23.7 MB/s eta 0:00:01\r\u001b[K     |█████████▋                      | 215 kB 23.7 MB/s eta 0:00:01\r\u001b[K     |██████████                      | 225 kB 23.7 MB/s eta 0:00:01\r\u001b[K     |██████████▌                     | 235 kB 23.7 MB/s eta 0:00:01\r\u001b[K     |███████████                     | 245 kB 23.7 MB/s eta 0:00:01\r\u001b[K     |███████████▍                    | 256 kB 23.7 MB/s eta 0:00:01\r\u001b[K     |███████████▉                    | 266 kB 23.7 MB/s eta 0:00:01\r\u001b[K     |████████████▎                   | 276 kB 23.7 MB/s eta 0:00:01\r\u001b[K     |████████████▊                   | 286 kB 23.7 MB/s eta 0:00:01\r\u001b[K     |█████████████▏                  | 296 kB 23.7 MB/s eta 0:00:01\r\u001b[K     |█████████████▋                  | 307 kB 23.7 MB/s eta 0:00:01\r\u001b[K     |██████████████                  | 317 kB 23.7 MB/s eta 0:00:01\r\u001b[K     |██████████████▋                 | 327 kB 23.7 MB/s eta 0:00:01\r\u001b[K     |███████████████                 | 337 kB 23.7 MB/s eta 0:00:01\r\u001b[K     |███████████████▌                | 348 kB 23.7 MB/s eta 0:00:01\r\u001b[K     |████████████████                | 358 kB 23.7 MB/s eta 0:00:01\r\u001b[K     |████████████████▍               | 368 kB 23.7 MB/s eta 0:00:01\r\u001b[K     |████████████████▉               | 378 kB 23.7 MB/s eta 0:00:01\r\u001b[K     |█████████████████▎              | 389 kB 23.7 MB/s eta 0:00:01\r\u001b[K     |█████████████████▊              | 399 kB 23.7 MB/s eta 0:00:01\r\u001b[K     |██████████████████▏             | 409 kB 23.7 MB/s eta 0:00:01\r\u001b[K     |██████████████████▋             | 419 kB 23.7 MB/s eta 0:00:01\r\u001b[K     |███████████████████▏            | 430 kB 23.7 MB/s eta 0:00:01\r\u001b[K     |███████████████████▋            | 440 kB 23.7 MB/s eta 0:00:01\r\u001b[K     |████████████████████            | 450 kB 23.7 MB/s eta 0:00:01\r\u001b[K     |████████████████████▌           | 460 kB 23.7 MB/s eta 0:00:01\r\u001b[K     |█████████████████████           | 471 kB 23.7 MB/s eta 0:00:01\r\u001b[K     |█████████████████████▍          | 481 kB 23.7 MB/s eta 0:00:01\r\u001b[K     |█████████████████████▉          | 491 kB 23.7 MB/s eta 0:00:01\r\u001b[K     |██████████████████████▎         | 501 kB 23.7 MB/s eta 0:00:01\r\u001b[K     |██████████████████████▊         | 512 kB 23.7 MB/s eta 0:00:01\r\u001b[K     |███████████████████████▏        | 522 kB 23.7 MB/s eta 0:00:01\r\u001b[K     |███████████████████████▋        | 532 kB 23.7 MB/s eta 0:00:01\r\u001b[K     |████████████████████████▏       | 542 kB 23.7 MB/s eta 0:00:01\r\u001b[K     |████████████████████████▋       | 552 kB 23.7 MB/s eta 0:00:01\r\u001b[K     |█████████████████████████       | 563 kB 23.7 MB/s eta 0:00:01\r\u001b[K     |█████████████████████████▌      | 573 kB 23.7 MB/s eta 0:00:01\r\u001b[K     |██████████████████████████      | 583 kB 23.7 MB/s eta 0:00:01\r\u001b[K     |██████████████████████████▍     | 593 kB 23.7 MB/s eta 0:00:01\r\u001b[K     |██████████████████████████▉     | 604 kB 23.7 MB/s eta 0:00:01\r\u001b[K     |███████████████████████████▎    | 614 kB 23.7 MB/s eta 0:00:01\r\u001b[K     |███████████████████████████▊    | 624 kB 23.7 MB/s eta 0:00:01\r\u001b[K     |████████████████████████████▏   | 634 kB 23.7 MB/s eta 0:00:01\r\u001b[K     |████████████████████████████▊   | 645 kB 23.7 MB/s eta 0:00:01\r\u001b[K     |█████████████████████████████▏  | 655 kB 23.7 MB/s eta 0:00:01\r\u001b[K     |█████████████████████████████▋  | 665 kB 23.7 MB/s eta 0:00:01\r\u001b[K     |██████████████████████████████  | 675 kB 23.7 MB/s eta 0:00:01\r\u001b[K     |██████████████████████████████▌ | 686 kB 23.7 MB/s eta 0:00:01\r\u001b[K     |███████████████████████████████ | 696 kB 23.7 MB/s eta 0:00:01\r\u001b[K     |███████████████████████████████▍| 706 kB 23.7 MB/s eta 0:00:01\r\u001b[K     |███████████████████████████████▉| 716 kB 23.7 MB/s eta 0:00:01\r\u001b[K     |████████████████████████████████| 720 kB 23.7 MB/s \n",
            "\u001b[K     |████████████████████████████████| 48 kB 7.0 MB/s \n",
            "\u001b[K     |████████████████████████████████| 189 kB 71.3 MB/s \n",
            "\u001b[K     |████████████████████████████████| 1.2 MB 58.4 MB/s \n",
            "\u001b[K     |████████████████████████████████| 55 kB 5.0 MB/s \n",
            "\u001b[K     |████████████████████████████████| 558 kB 74.6 MB/s \n",
            "\u001b[K     |████████████████████████████████| 51 kB 400 kB/s \n",
            "\u001b[K     |████████████████████████████████| 130 kB 62.9 MB/s \n",
            "\u001b[?25hMounted at /content/gdrive\n"
          ]
        }
      ],
      "source": [
        "!pip install -Uqq fastbook\n",
        "import fastbook\n",
        "fastbook.setup_book()\n",
        "from fastbook import *"
      ]
    },
    {
      "cell_type": "code",
      "source": [
        "from fastai.vision.all import *\n",
        "path = untar_data(URLs.COCO_SAMPLE)"
      ],
      "metadata": {
        "id": "C2ASpdchz0Jp"
      },
      "execution_count": 60,
      "outputs": []
    },
    {
      "cell_type": "code",
      "source": [
        "import json\n",
        "\n",
        "with open(path/'annotations'/'train_sample.json') as f:\n",
        "  data = json.load(f)\n",
        "data.keys()"
      ],
      "metadata": {
        "id": "5xWPBYQc0HY1",
        "colab": {
          "base_uri": "https://localhost:8080/"
        },
        "outputId": "eb1b1d57-92f6-4be0-811e-5ae0d7a00557"
      },
      "execution_count": 3,
      "outputs": [
        {
          "output_type": "execute_result",
          "data": {
            "text/plain": [
              "dict_keys(['categories', 'annotations', 'images'])"
            ]
          },
          "metadata": {},
          "execution_count": 3
        }
      ]
    },
    {
      "cell_type": "code",
      "source": [
        "category_list = data['categories']\n",
        "image_list = data['images']\n",
        "annotations_list = data['annotations']\n",
        "\n",
        "image_dic = {}\n",
        "for i in image_list:\n",
        "  image_dic[i['id']] = i['file_name']\n",
        "\n",
        "annotations_dic = {}\n",
        "for i in annotations_list:\n",
        "  if i['image_id'] in annotations_dic:\n",
        "    annotations_dic[i['image_id']].append(i['category_id'])\n",
        "  else:\n",
        "    annotations_dic[i['image_id']] = [i['category_id']]\n",
        "\n",
        "category_dic = {}\n",
        "for i in category_list:\n",
        "  category_dic[i['id']] = i['name']"
      ],
      "metadata": {
        "id": "WpcbcGhT1lsv"
      },
      "execution_count": 4,
      "outputs": []
    },
    {
      "cell_type": "code",
      "source": [
        "def get_image(df): return path/'train_sample'/df['fname']\n",
        "def get_labels(df): return df['labels']"
      ],
      "metadata": {
        "id": "4CP9SkxsgWI6"
      },
      "execution_count": 6,
      "outputs": []
    },
    {
      "cell_type": "code",
      "source": [
        "dblock = DataBlock(blocks=(ImageBlock, MultiCategoryBlock),\n",
        "                   get_x = get_image, get_y = get_labels, splitter = RandomSplitter(valid_pct=0.2, seed=42), item_tfms = RandomResizedCrop(128, min_scale=0.5))\n",
        "dsets = dblock.datasets(df)\n",
        "dsets.valid"
      ],
      "metadata": {
        "colab": {
          "base_uri": "https://localhost:8080/"
        },
        "id": "wAsqhSlGhWXC",
        "outputId": "5b36d108-b920-4b3b-a126-838fe19cbb4e"
      },
      "execution_count": 7,
      "outputs": [
        {
          "output_type": "execute_result",
          "data": {
            "text/plain": [
              "(#4367) [(PILImage mode=RGB size=640x640, TensorMultiCategory([0., 0., 0., 0., 1., 0.])),(PILImage mode=RGB size=640x480, TensorMultiCategory([0., 1., 0., 1., 0., 0.])),(PILImage mode=RGB size=640x480, TensorMultiCategory([1., 0., 0., 0., 0., 0.])),(PILImage mode=RGB size=640x428, TensorMultiCategory([1., 0., 0., 0., 0., 0.])),(PILImage mode=RGB size=640x429, TensorMultiCategory([0., 1., 0., 0., 0., 0.])),(PILImage mode=RGB size=480x640, TensorMultiCategory([0., 0., 0., 1., 1., 0.])),(PILImage mode=RGB size=640x428, TensorMultiCategory([1., 0., 1., 1., 0., 1.])),(PILImage mode=RGB size=640x480, TensorMultiCategory([1., 1., 1., 1., 0., 0.])),(PILImage mode=RGB size=640x427, TensorMultiCategory([0., 1., 0., 0., 0., 0.])),(PILImage mode=RGB size=480x640, TensorMultiCategory([1., 0., 0., 0., 0., 0.]))...]"
            ]
          },
          "metadata": {},
          "execution_count": 7
        }
      ]
    },
    {
      "cell_type": "code",
      "source": [
        "dls = dblock.dataloaders(df)"
      ],
      "metadata": {
        "id": "buL_E-IDhbK-"
      },
      "execution_count": 61,
      "outputs": []
    },
    {
      "cell_type": "code",
      "source": [
        "def accuracy_multi(inp, targ, thresh=0.5, sigmoid=True):\n",
        "    \"Compute accuracy when `inp` and `targ` are the same size.\"\n",
        "    if sigmoid: inp = inp.sigmoid()\n",
        "    return ((inp>thresh)==targ.bool()).float().mean()"
      ],
      "metadata": {
        "id": "tfcGFKlRksAC"
      },
      "execution_count": 9,
      "outputs": []
    },
    {
      "cell_type": "code",
      "source": [
        "learn = cnn_learner(dls, resnet50, metrics=partial(accuracy_multi, thresh=0.55))"
      ],
      "metadata": {
        "colab": {
          "base_uri": "https://localhost:8080/",
          "height": 66,
          "referenced_widgets": [
            "8e5a664c4f434183ab335383a6718c52",
            "607a4058eaff400ea8f6cbc7001ced43",
            "a5c072bb0b0f44109cf49d3a51b7fd31",
            "706fc44d7b994e3496982c0a57eeeceb",
            "65a64f67fae14e8da4901f88832fb960",
            "8eff4b270494433394654cca239b4ee7",
            "ea0956df48fc49db8df18d8ac0648b39",
            "888c111cbb5e4e8593ae56b5689bcad0",
            "37ce64f65d7a4a4fad5600dc1b47fa4e",
            "faa5c735020946848874cff4d8b25791",
            "e428022f46944ae3a2a60d43abe3e272"
          ]
        },
        "id": "KA0yhgITk1WX",
        "outputId": "e9dca27d-53e3-4968-b123-60dc3be60d20"
      },
      "execution_count": 45,
      "outputs": [
        {
          "output_type": "stream",
          "name": "stderr",
          "text": [
            "Downloading: \"https://download.pytorch.org/models/resnet50-0676ba61.pth\" to /root/.cache/torch/hub/checkpoints/resnet50-0676ba61.pth\n"
          ]
        },
        {
          "output_type": "display_data",
          "data": {
            "application/vnd.jupyter.widget-view+json": {
              "model_id": "8e5a664c4f434183ab335383a6718c52",
              "version_minor": 0,
              "version_major": 2
            },
            "text/plain": [
              "  0%|          | 0.00/97.8M [00:00<?, ?B/s]"
            ]
          },
          "metadata": {}
        }
      ]
    },
    {
      "cell_type": "code",
      "source": [
        "learn.fit_one_cycle(3)"
      ],
      "metadata": {
        "colab": {
          "base_uri": "https://localhost:8080/",
          "height": 143
        },
        "id": "AOih502ixvzb",
        "outputId": "df47cf5c-1640-430c-ee29-2d412fb78a97"
      },
      "execution_count": 46,
      "outputs": [
        {
          "output_type": "display_data",
          "data": {
            "text/html": [
              "\n",
              "<style>\n",
              "    /* Turns off some styling */\n",
              "    progress {\n",
              "        /* gets rid of default border in Firefox and Opera. */\n",
              "        border: none;\n",
              "        /* Needs to be in here for Safari polyfill so background images work as expected. */\n",
              "        background-size: auto;\n",
              "    }\n",
              "    .progress-bar-interrupted, .progress-bar-interrupted::-webkit-progress-bar {\n",
              "        background: #F44336;\n",
              "    }\n",
              "</style>\n"
            ],
            "text/plain": [
              "<IPython.core.display.HTML object>"
            ]
          },
          "metadata": {}
        },
        {
          "output_type": "display_data",
          "data": {
            "text/html": [
              "<table border=\"1\" class=\"dataframe\">\n",
              "  <thead>\n",
              "    <tr style=\"text-align: left;\">\n",
              "      <th>epoch</th>\n",
              "      <th>train_loss</th>\n",
              "      <th>valid_loss</th>\n",
              "      <th>accuracy_multi</th>\n",
              "      <th>time</th>\n",
              "    </tr>\n",
              "  </thead>\n",
              "  <tbody>\n",
              "    <tr>\n",
              "      <td>0</td>\n",
              "      <td>0.543665</td>\n",
              "      <td>0.414800</td>\n",
              "      <td>0.821579</td>\n",
              "      <td>03:05</td>\n",
              "    </tr>\n",
              "    <tr>\n",
              "      <td>1</td>\n",
              "      <td>0.408925</td>\n",
              "      <td>0.363762</td>\n",
              "      <td>0.839707</td>\n",
              "      <td>02:56</td>\n",
              "    </tr>\n",
              "    <tr>\n",
              "      <td>2</td>\n",
              "      <td>0.372602</td>\n",
              "      <td>0.355813</td>\n",
              "      <td>0.843066</td>\n",
              "      <td>02:55</td>\n",
              "    </tr>\n",
              "  </tbody>\n",
              "</table>"
            ],
            "text/plain": [
              "<IPython.core.display.HTML object>"
            ]
          },
          "metadata": {}
        }
      ]
    },
    {
      "cell_type": "markdown",
      "source": [
        "Upload your image and provide its path below.\n",
        "The cells below will display your image, display the possible predictions in order and finally the confidence percentages for each category (default threshold for successful prediction is set to 0.55)"
      ],
      "metadata": {
        "id": "OpGLmkCVdUEy"
      }
    },
    {
      "cell_type": "code",
      "source": [
        "test_path = \"/content/booktv.jpg\""
      ],
      "metadata": {
        "id": "QfteYNr4X8aD"
      },
      "execution_count": 59,
      "outputs": []
    },
    {
      "cell_type": "code",
      "source": [
        "from IPython import display\n",
        "display.Image(test_path)"
      ],
      "metadata": {
        "colab": {
          "base_uri": "https://localhost:8080/",
          "height": 573
        },
        "id": "czQPnhOuYD0u",
        "outputId": "c5e4bca1-852c-4bfa-8369-a54072c06c1e"
      },
      "execution_count": 54,
      "outputs": [
        {
          "output_type": "execute_result",
          "data": {
            "image/jpeg": "[encoded data removed]",
            "text/plain": [
              "<IPython.core.display.Image object>"
            ]
          },
          "metadata": {},
          "execution_count": 54
        }
      ]
    },
    {
      "cell_type": "code",
      "source": [
        "dsets.train.vocab"
      ],
      "metadata": {
        "colab": {
          "base_uri": "https://localhost:8080/"
        },
        "id": "-MzcRUFnYG4G",
        "outputId": "1ba91cf0-1325-46ef-b9e3-17b4656d72c9"
      },
      "execution_count": 76,
      "outputs": [
        {
          "output_type": "execute_result",
          "data": {
            "text/plain": [
              "['book', 'chair', 'couch', 'remote', 'tv', 'vase']"
            ]
          },
          "metadata": {},
          "execution_count": 76
        }
      ]
    },
    {
      "cell_type": "code",
      "source": [
        "learn.predict(test_path)"
      ],
      "metadata": {
        "colab": {
          "base_uri": "https://localhost:8080/",
          "height": 69
        },
        "id": "wNYbO_UKYMjR",
        "outputId": "0cb291c1-6e8b-423a-8cf4-1e574c24ec97"
      },
      "execution_count": 78,
      "outputs": [
        {
          "output_type": "display_data",
          "data": {
            "text/html": [
              "\n",
              "<style>\n",
              "    /* Turns off some styling */\n",
              "    progress {\n",
              "        /* gets rid of default border in Firefox and Opera. */\n",
              "        border: none;\n",
              "        /* Needs to be in here for Safari polyfill so background images work as expected. */\n",
              "        background-size: auto;\n",
              "    }\n",
              "    .progress-bar-interrupted, .progress-bar-interrupted::-webkit-progress-bar {\n",
              "        background: #F44336;\n",
              "    }\n",
              "</style>\n"
            ],
            "text/plain": [
              "<IPython.core.display.HTML object>"
            ]
          },
          "metadata": {}
        },
        {
          "output_type": "display_data",
          "data": {
            "text/html": [
              ""
            ],
            "text/plain": [
              "<IPython.core.display.HTML object>"
            ]
          },
          "metadata": {}
        },
        {
          "output_type": "execute_result",
          "data": {
            "text/plain": [
              "((#1) ['tv'],\n",
              " TensorBase([False, False, False, False,  True, False]),\n",
              " TensorBase([0.4524, 0.2871, 0.1808, 0.0701, 0.8645, 0.2480]))"
            ]
          },
          "metadata": {},
          "execution_count": 78
        }
      ]
    }
  ]
}